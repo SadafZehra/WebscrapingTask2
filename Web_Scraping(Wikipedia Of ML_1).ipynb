{
 "cells": [
  {
   "cell_type": "code",
   "execution_count": 1,
   "metadata": {},
   "outputs": [],
   "source": [
    "import requests"
   ]
  },
  {
   "cell_type": "code",
   "execution_count": 2,
   "metadata": {},
   "outputs": [],
   "source": [
    "import bs4"
   ]
  },
  {
   "cell_type": "code",
   "execution_count": 3,
   "metadata": {},
   "outputs": [],
   "source": [
    "res = requests.get(\"https://en.wikipedia.org/wiki/Machine_learning\")"
   ]
  },
  {
   "cell_type": "code",
   "execution_count": 5,
   "metadata": {},
   "outputs": [
    {
     "data": {
      "text/plain": [
       "200"
      ]
     },
     "execution_count": 5,
     "metadata": {},
     "output_type": "execute_result"
    }
   ],
   "source": [
    "res.status_code"
   ]
  },
  {
   "cell_type": "code",
   "execution_count": 6,
   "metadata": {},
   "outputs": [],
   "source": [
    "soup = bs4.BeautifulSoup(res.text,'html')"
   ]
  },
  {
   "cell_type": "code",
   "execution_count": 7,
   "metadata": {},
   "outputs": [
    {
     "data": {
      "text/plain": [
       "bs4.BeautifulSoup"
      ]
     },
     "execution_count": 7,
     "metadata": {},
     "output_type": "execute_result"
    }
   ],
   "source": [
    "type(soup)"
   ]
  },
  {
   "cell_type": "code",
   "execution_count": 8,
   "metadata": {},
   "outputs": [],
   "source": [
    "hi = soup.select('title')"
   ]
  },
  {
   "cell_type": "code",
   "execution_count": 9,
   "metadata": {},
   "outputs": [
    {
     "data": {
      "text/plain": [
       "[<title>Machine learning - Wikipedia</title>]"
      ]
     },
     "execution_count": 9,
     "metadata": {},
     "output_type": "execute_result"
    }
   ],
   "source": [
    "hi"
   ]
  },
  {
   "cell_type": "code",
   "execution_count": 10,
   "metadata": {},
   "outputs": [
    {
     "name": "stdout",
     "output_type": "stream",
     "text": [
      "[<title>Machine learning - Wikipedia</title>]\n"
     ]
    }
   ],
   "source": [
    "print(hi)"
   ]
  },
  {
   "cell_type": "code",
   "execution_count": 11,
   "metadata": {},
   "outputs": [
    {
     "data": {
      "text/plain": [
       "'Machine learning - Wikipedia'"
      ]
     },
     "execution_count": 11,
     "metadata": {},
     "output_type": "execute_result"
    }
   ],
   "source": [
    "hi[0].getText()"
   ]
  },
  {
   "cell_type": "code",
   "execution_count": 16,
   "metadata": {},
   "outputs": [],
   "source": [
    " h1 = soup.select('.mw-headline')"
   ]
  },
  {
   "cell_type": "code",
   "execution_count": 17,
   "metadata": {},
   "outputs": [
    {
     "data": {
      "text/plain": [
       "[<span class=\"mw-headline\" id=\"Overview\">Overview</span>,\n",
       " <span class=\"mw-headline\" id=\"Machine_learning_tasks\">Machine learning tasks</span>,\n",
       " <span class=\"mw-headline\" id=\"History_and_relationships_to_other_fields\">History and relationships to other fields</span>,\n",
       " <span class=\"mw-headline\" id=\"Relation_to_data_mining\">Relation to data mining</span>,\n",
       " <span class=\"mw-headline\" id=\"Relation_to_optimization\">Relation to optimization</span>,\n",
       " <span class=\"mw-headline\" id=\"Relation_to_statistics\">Relation to statistics</span>,\n",
       " <span class=\"mw-headline\" id=\"Theory\"><span id=\"Generalization\"></span> Theory</span>,\n",
       " <span class=\"mw-headline\" id=\"Approaches\">Approaches</span>,\n",
       " <span class=\"mw-headline\" id=\"Types_of_learning_algorithms\">Types of learning algorithms</span>,\n",
       " <span class=\"mw-headline\" id=\"Supervised_learning\">Supervised learning</span>,\n",
       " <span class=\"mw-headline\" id=\"Unsupervised_learning\">Unsupervised learning</span>,\n",
       " <span class=\"mw-headline\" id=\"Reinforcement_learning\">Reinforcement learning</span>,\n",
       " <span class=\"mw-headline\" id=\"Self_learning\">Self learning</span>,\n",
       " <span class=\"mw-headline\" id=\"Feature_learning\">Feature learning</span>,\n",
       " <span class=\"mw-headline\" id=\"Sparse_dictionary_learning\">Sparse dictionary learning</span>,\n",
       " <span class=\"mw-headline\" id=\"Anomaly_detection\">Anomaly detection</span>,\n",
       " <span class=\"mw-headline\" id=\"Association_rules\">Association rules</span>,\n",
       " <span class=\"mw-headline\" id=\"Models\">Models</span>,\n",
       " <span class=\"mw-headline\" id=\"Artificial_neural_networks\">Artificial neural networks</span>,\n",
       " <span class=\"mw-headline\" id=\"Decision_trees\">Decision trees</span>,\n",
       " <span class=\"mw-headline\" id=\"Support_vector_machines\">Support vector machines</span>,\n",
       " <span class=\"mw-headline\" id=\"Regression_analysis\">Regression analysis</span>,\n",
       " <span class=\"mw-headline\" id=\"Bayesian_networks\">Bayesian networks</span>,\n",
       " <span class=\"mw-headline\" id=\"Genetic_algorithms\">Genetic algorithms</span>,\n",
       " <span class=\"mw-headline\" id=\"Training_models\">Training models</span>,\n",
       " <span class=\"mw-headline\" id=\"Federated_learning\">Federated learning</span>,\n",
       " <span class=\"mw-headline\" id=\"Applications\">Applications</span>,\n",
       " <span class=\"mw-headline\" id=\"Limitations\">Limitations</span>,\n",
       " <span class=\"mw-headline\" id=\"Bias\">Bias</span>,\n",
       " <span class=\"mw-headline\" id=\"Model_assessments\">Model assessments</span>,\n",
       " <span class=\"mw-headline\" id=\"Ethics\">Ethics</span>,\n",
       " <span class=\"mw-headline\" id=\"Software\">Software</span>,\n",
       " <span class=\"mw-headline\" id=\"Free_and_open-source_software\">Free and open-source software<span id=\"Open-source_software\"></span></span>,\n",
       " <span class=\"mw-headline\" id=\"Proprietary_software_with_free_and_open-source_editions\">Proprietary software with free and open-source editions</span>,\n",
       " <span class=\"mw-headline\" id=\"Proprietary_software\">Proprietary software</span>,\n",
       " <span class=\"mw-headline\" id=\"Journals\">Journals</span>,\n",
       " <span class=\"mw-headline\" id=\"Conferences\">Conferences</span>,\n",
       " <span class=\"mw-headline\" id=\"See_also\">See also</span>,\n",
       " <span class=\"mw-headline\" id=\"References\">References</span>,\n",
       " <span class=\"mw-headline\" id=\"Further_reading\">Further reading</span>,\n",
       " <span class=\"mw-headline\" id=\"External_links\">External links</span>]"
      ]
     },
     "execution_count": 17,
     "metadata": {},
     "output_type": "execute_result"
    }
   ],
   "source": [
    "h1"
   ]
  },
  {
   "cell_type": "code",
   "execution_count": 21,
   "metadata": {},
   "outputs": [
    {
     "name": "stdout",
     "output_type": "stream",
     "text": [
      "Overview\n",
      "Machine learning tasks\n",
      "History and relationships to other fields\n",
      "Relation to data mining\n",
      "Relation to optimization\n",
      "Relation to statistics\n",
      " Theory\n",
      "Approaches\n",
      "Types of learning algorithms\n",
      "Supervised learning\n",
      "Unsupervised learning\n",
      "Reinforcement learning\n",
      "Self learning\n",
      "Feature learning\n",
      "Sparse dictionary learning\n",
      "Anomaly detection\n",
      "Association rules\n",
      "Models\n",
      "Artificial neural networks\n",
      "Decision trees\n",
      "Support vector machines\n",
      "Regression analysis\n",
      "Bayesian networks\n",
      "Genetic algorithms\n",
      "Training models\n",
      "Federated learning\n",
      "Applications\n",
      "Limitations\n",
      "Bias\n",
      "Model assessments\n",
      "Ethics\n",
      "Software\n",
      "Free and open-source software\n",
      "Proprietary software with free and open-source editions\n",
      "Proprietary software\n",
      "Journals\n",
      "Conferences\n",
      "See also\n",
      "References\n",
      "Further reading\n",
      "External links\n"
     ]
    }
   ],
   "source": [
    "for i in h1:\n",
    "    print(i.getText())"
   ]
  },
  {
   "cell_type": "code",
   "execution_count": 24,
   "metadata": {},
   "outputs": [
    {
     "name": "stdout",
     "output_type": "stream",
     "text": [
      "<span class=\"mw-headline\" id=\"Overview\">Overview</span>\n",
      "<span class=\"mw-headline\" id=\"Machine_learning_tasks\">Machine learning tasks</span>\n",
      "<span class=\"mw-headline\" id=\"History_and_relationships_to_other_fields\">History and relationships to other fields</span>\n",
      "<span class=\"mw-headline\" id=\"Relation_to_data_mining\">Relation to data mining</span>\n",
      "<span class=\"mw-headline\" id=\"Relation_to_optimization\">Relation to optimization</span>\n",
      "<span class=\"mw-headline\" id=\"Relation_to_statistics\">Relation to statistics</span>\n",
      "<span class=\"mw-headline\" id=\"Theory\"><span id=\"Generalization\"></span> Theory</span>\n",
      "<span class=\"mw-headline\" id=\"Approaches\">Approaches</span>\n",
      "<span class=\"mw-headline\" id=\"Types_of_learning_algorithms\">Types of learning algorithms</span>\n",
      "<span class=\"mw-headline\" id=\"Supervised_learning\">Supervised learning</span>\n",
      "<span class=\"mw-headline\" id=\"Unsupervised_learning\">Unsupervised learning</span>\n",
      "<span class=\"mw-headline\" id=\"Reinforcement_learning\">Reinforcement learning</span>\n",
      "<span class=\"mw-headline\" id=\"Self_learning\">Self learning</span>\n",
      "<span class=\"mw-headline\" id=\"Feature_learning\">Feature learning</span>\n",
      "<span class=\"mw-headline\" id=\"Sparse_dictionary_learning\">Sparse dictionary learning</span>\n",
      "<span class=\"mw-headline\" id=\"Anomaly_detection\">Anomaly detection</span>\n",
      "<span class=\"mw-headline\" id=\"Association_rules\">Association rules</span>\n",
      "<span class=\"mw-headline\" id=\"Models\">Models</span>\n",
      "<span class=\"mw-headline\" id=\"Artificial_neural_networks\">Artificial neural networks</span>\n",
      "<span class=\"mw-headline\" id=\"Decision_trees\">Decision trees</span>\n",
      "<span class=\"mw-headline\" id=\"Support_vector_machines\">Support vector machines</span>\n",
      "<span class=\"mw-headline\" id=\"Regression_analysis\">Regression analysis</span>\n",
      "<span class=\"mw-headline\" id=\"Bayesian_networks\">Bayesian networks</span>\n",
      "<span class=\"mw-headline\" id=\"Genetic_algorithms\">Genetic algorithms</span>\n",
      "<span class=\"mw-headline\" id=\"Training_models\">Training models</span>\n",
      "<span class=\"mw-headline\" id=\"Federated_learning\">Federated learning</span>\n",
      "<span class=\"mw-headline\" id=\"Applications\">Applications</span>\n",
      "<span class=\"mw-headline\" id=\"Limitations\">Limitations</span>\n",
      "<span class=\"mw-headline\" id=\"Bias\">Bias</span>\n",
      "<span class=\"mw-headline\" id=\"Model_assessments\">Model assessments</span>\n",
      "<span class=\"mw-headline\" id=\"Ethics\">Ethics</span>\n",
      "<span class=\"mw-headline\" id=\"Software\">Software</span>\n",
      "<span class=\"mw-headline\" id=\"Free_and_open-source_software\">Free and open-source software<span id=\"Open-source_software\"></span></span>\n",
      "<span class=\"mw-headline\" id=\"Proprietary_software_with_free_and_open-source_editions\">Proprietary software with free and open-source editions</span>\n",
      "<span class=\"mw-headline\" id=\"Proprietary_software\">Proprietary software</span>\n",
      "<span class=\"mw-headline\" id=\"Journals\">Journals</span>\n",
      "<span class=\"mw-headline\" id=\"Conferences\">Conferences</span>\n",
      "<span class=\"mw-headline\" id=\"See_also\">See also</span>\n",
      "<span class=\"mw-headline\" id=\"References\">References</span>\n",
      "<span class=\"mw-headline\" id=\"Further_reading\">Further reading</span>\n",
      "<span class=\"mw-headline\" id=\"External_links\">External links</span>\n"
     ]
    }
   ],
   "source": [
    "for u in soup.select(\".mw-headline\"):\n",
    "    print(u)"
   ]
  },
  {
   "cell_type": "code",
   "execution_count": 25,
   "metadata": {},
   "outputs": [
    {
     "name": "stdout",
     "output_type": "stream",
     "text": [
      "Overview\n",
      "Machine learning tasks\n",
      "History and relationships to other fields\n",
      "Relation to data mining\n",
      "Relation to optimization\n",
      "Relation to statistics\n",
      " Theory\n",
      "Approaches\n",
      "Types of learning algorithms\n",
      "Supervised learning\n",
      "Unsupervised learning\n",
      "Reinforcement learning\n",
      "Self learning\n",
      "Feature learning\n",
      "Sparse dictionary learning\n",
      "Anomaly detection\n",
      "Association rules\n",
      "Models\n",
      "Artificial neural networks\n",
      "Decision trees\n",
      "Support vector machines\n",
      "Regression analysis\n",
      "Bayesian networks\n",
      "Genetic algorithms\n",
      "Training models\n",
      "Federated learning\n",
      "Applications\n",
      "Limitations\n",
      "Bias\n",
      "Model assessments\n",
      "Ethics\n",
      "Software\n",
      "Free and open-source software\n",
      "Proprietary software with free and open-source editions\n",
      "Proprietary software\n",
      "Journals\n",
      "Conferences\n",
      "See also\n",
      "References\n",
      "Further reading\n",
      "External links\n"
     ]
    }
   ],
   "source": [
    "for m in soup.select(\".mw-headline\"):\n",
    "    print(m.text)"
   ]
  },
  {
   "cell_type": "code",
   "execution_count": 26,
   "metadata": {},
   "outputs": [
    {
     "name": "stdout",
     "output_type": "stream",
     "text": [
      "O\n",
      "M\n",
      "H\n",
      "R\n",
      "R\n",
      "R\n",
      " \n",
      "A\n",
      "T\n",
      "S\n",
      "U\n",
      "R\n",
      "S\n",
      "F\n",
      "S\n",
      "A\n",
      "A\n",
      "M\n",
      "A\n",
      "D\n",
      "S\n",
      "R\n",
      "B\n",
      "G\n",
      "T\n",
      "F\n",
      "A\n",
      "L\n",
      "B\n",
      "M\n",
      "E\n",
      "S\n",
      "F\n",
      "P\n",
      "P\n",
      "J\n",
      "C\n",
      "S\n",
      "R\n",
      "F\n",
      "E\n"
     ]
    }
   ],
   "source": [
    "for m in soup.select(\".mw-headline\"):\n",
    "    print(m.text[0])"
   ]
  },
  {
   "cell_type": "code",
   "execution_count": 27,
   "metadata": {},
   "outputs": [
    {
     "name": "stdout",
     "output_type": "stream",
     "text": [
      "v\n",
      "a\n",
      "i\n",
      "e\n",
      "e\n",
      "e\n",
      "T\n",
      "p\n",
      "y\n",
      "u\n",
      "n\n",
      "e\n",
      "e\n",
      "e\n",
      "p\n",
      "n\n",
      "s\n",
      "o\n",
      "r\n",
      "e\n",
      "u\n",
      "e\n",
      "a\n",
      "e\n",
      "r\n",
      "e\n",
      "p\n",
      "i\n",
      "i\n",
      "o\n",
      "t\n",
      "o\n",
      "r\n",
      "r\n",
      "r\n",
      "o\n",
      "o\n",
      "e\n",
      "e\n",
      "u\n",
      "x\n"
     ]
    }
   ],
   "source": [
    "for m in soup.select(\".mw-headline\"):\n",
    "    print(m.text[1])"
   ]
  },
  {
   "cell_type": "code",
   "execution_count": 28,
   "metadata": {},
   "outputs": [],
   "source": [
    "h2 = soup.select('.toctext')"
   ]
  },
  {
   "cell_type": "code",
   "execution_count": 29,
   "metadata": {},
   "outputs": [
    {
     "data": {
      "text/plain": [
       "[<span class=\"toctext\">Overview</span>,\n",
       " <span class=\"toctext\">Machine learning tasks</span>,\n",
       " <span class=\"toctext\">History and relationships to other fields</span>,\n",
       " <span class=\"toctext\">Relation to data mining</span>,\n",
       " <span class=\"toctext\">Relation to optimization</span>,\n",
       " <span class=\"toctext\">Relation to statistics</span>,\n",
       " <span class=\"toctext\">Theory</span>,\n",
       " <span class=\"toctext\">Approaches</span>,\n",
       " <span class=\"toctext\">Types of learning algorithms</span>,\n",
       " <span class=\"toctext\">Supervised learning</span>,\n",
       " <span class=\"toctext\">Unsupervised learning</span>,\n",
       " <span class=\"toctext\">Reinforcement learning</span>,\n",
       " <span class=\"toctext\">Self learning</span>,\n",
       " <span class=\"toctext\">Feature learning</span>,\n",
       " <span class=\"toctext\">Sparse dictionary learning</span>,\n",
       " <span class=\"toctext\">Anomaly detection</span>,\n",
       " <span class=\"toctext\">Association rules</span>,\n",
       " <span class=\"toctext\">Models</span>,\n",
       " <span class=\"toctext\">Artificial neural networks</span>,\n",
       " <span class=\"toctext\">Decision trees</span>,\n",
       " <span class=\"toctext\">Support vector machines</span>,\n",
       " <span class=\"toctext\">Regression analysis</span>,\n",
       " <span class=\"toctext\">Bayesian networks</span>,\n",
       " <span class=\"toctext\">Genetic algorithms</span>,\n",
       " <span class=\"toctext\">Training models</span>,\n",
       " <span class=\"toctext\">Federated learning</span>,\n",
       " <span class=\"toctext\">Applications</span>,\n",
       " <span class=\"toctext\">Limitations</span>,\n",
       " <span class=\"toctext\">Bias</span>,\n",
       " <span class=\"toctext\">Model assessments</span>,\n",
       " <span class=\"toctext\">Ethics</span>,\n",
       " <span class=\"toctext\">Software</span>,\n",
       " <span class=\"toctext\">Free and open-source software</span>,\n",
       " <span class=\"toctext\">Proprietary software with free and open-source editions</span>,\n",
       " <span class=\"toctext\">Proprietary software</span>,\n",
       " <span class=\"toctext\">Journals</span>,\n",
       " <span class=\"toctext\">Conferences</span>,\n",
       " <span class=\"toctext\">See also</span>,\n",
       " <span class=\"toctext\">References</span>,\n",
       " <span class=\"toctext\">Further reading</span>,\n",
       " <span class=\"toctext\">External links</span>]"
      ]
     },
     "execution_count": 29,
     "metadata": {},
     "output_type": "execute_result"
    }
   ],
   "source": [
    "h2"
   ]
  },
  {
   "cell_type": "code",
   "execution_count": 30,
   "metadata": {},
   "outputs": [
    {
     "name": "stdout",
     "output_type": "stream",
     "text": [
      "Overview\n",
      "Machine learning tasks\n",
      "History and relationships to other fields\n",
      "Relation to data mining\n",
      "Relation to optimization\n",
      "Relation to statistics\n",
      "Theory\n",
      "Approaches\n",
      "Types of learning algorithms\n",
      "Supervised learning\n",
      "Unsupervised learning\n",
      "Reinforcement learning\n",
      "Self learning\n",
      "Feature learning\n",
      "Sparse dictionary learning\n",
      "Anomaly detection\n",
      "Association rules\n",
      "Models\n",
      "Artificial neural networks\n",
      "Decision trees\n",
      "Support vector machines\n",
      "Regression analysis\n",
      "Bayesian networks\n",
      "Genetic algorithms\n",
      "Training models\n",
      "Federated learning\n",
      "Applications\n",
      "Limitations\n",
      "Bias\n",
      "Model assessments\n",
      "Ethics\n",
      "Software\n",
      "Free and open-source software\n",
      "Proprietary software with free and open-source editions\n",
      "Proprietary software\n",
      "Journals\n",
      "Conferences\n",
      "See also\n",
      "References\n",
      "Further reading\n",
      "External links\n"
     ]
    }
   ],
   "source": [
    "for p in h2:\n",
    "    print(p.text)"
   ]
  },
  {
   "cell_type": "code",
   "execution_count": 32,
   "metadata": {},
   "outputs": [],
   "source": [
    "h3 = soup.select('h2 > span')"
   ]
  },
  {
   "cell_type": "code",
   "execution_count": 33,
   "metadata": {},
   "outputs": [
    {
     "data": {
      "text/plain": [
       "[<span class=\"mw-headline\" id=\"Overview\">Overview</span>,\n",
       " <span class=\"mw-editsection\"><span class=\"mw-editsection-bracket\">[</span><a href=\"/w/index.php?title=Machine_learning&amp;action=edit&amp;section=1\" title=\"Edit section: Overview\">edit</a><span class=\"mw-editsection-bracket\">]</span></span>,\n",
       " <span class=\"mw-headline\" id=\"History_and_relationships_to_other_fields\">History and relationships to other fields</span>,\n",
       " <span class=\"mw-editsection\"><span class=\"mw-editsection-bracket\">[</span><a href=\"/w/index.php?title=Machine_learning&amp;action=edit&amp;section=3\" title=\"Edit section: History and relationships to other fields\">edit</a><span class=\"mw-editsection-bracket\">]</span></span>,\n",
       " <span class=\"mw-headline\" id=\"Theory\"><span id=\"Generalization\"></span> Theory</span>,\n",
       " <span class=\"mw-editsection\"><span class=\"mw-editsection-bracket\">[</span><a href=\"/w/index.php?title=Machine_learning&amp;action=edit&amp;section=7\" title=\"Edit section: Theory\">edit</a><span class=\"mw-editsection-bracket\">]</span></span>,\n",
       " <span class=\"mw-headline\" id=\"Approaches\">Approaches</span>,\n",
       " <span class=\"mw-editsection\"><span class=\"mw-editsection-bracket\">[</span><a href=\"/w/index.php?title=Machine_learning&amp;action=edit&amp;section=8\" title=\"Edit section: Approaches\">edit</a><span class=\"mw-editsection-bracket\">]</span></span>,\n",
       " <span class=\"mw-headline\" id=\"Applications\">Applications</span>,\n",
       " <span class=\"mw-editsection\"><span class=\"mw-editsection-bracket\">[</span><a href=\"/w/index.php?title=Machine_learning&amp;action=edit&amp;section=27\" title=\"Edit section: Applications\">edit</a><span class=\"mw-editsection-bracket\">]</span></span>,\n",
       " <span class=\"mw-headline\" id=\"Limitations\">Limitations</span>,\n",
       " <span class=\"mw-editsection\"><span class=\"mw-editsection-bracket\">[</span><a href=\"/w/index.php?title=Machine_learning&amp;action=edit&amp;section=28\" title=\"Edit section: Limitations\">edit</a><span class=\"mw-editsection-bracket\">]</span></span>,\n",
       " <span class=\"mw-headline\" id=\"Model_assessments\">Model assessments</span>,\n",
       " <span class=\"mw-editsection\"><span class=\"mw-editsection-bracket\">[</span><a href=\"/w/index.php?title=Machine_learning&amp;action=edit&amp;section=30\" title=\"Edit section: Model assessments\">edit</a><span class=\"mw-editsection-bracket\">]</span></span>,\n",
       " <span class=\"mw-headline\" id=\"Ethics\">Ethics</span>,\n",
       " <span class=\"mw-editsection\"><span class=\"mw-editsection-bracket\">[</span><a href=\"/w/index.php?title=Machine_learning&amp;action=edit&amp;section=31\" title=\"Edit section: Ethics\">edit</a><span class=\"mw-editsection-bracket\">]</span></span>,\n",
       " <span class=\"mw-headline\" id=\"Software\">Software</span>,\n",
       " <span class=\"mw-editsection\"><span class=\"mw-editsection-bracket\">[</span><a href=\"/w/index.php?title=Machine_learning&amp;action=edit&amp;section=32\" title=\"Edit section: Software\">edit</a><span class=\"mw-editsection-bracket\">]</span></span>,\n",
       " <span class=\"mw-headline\" id=\"Journals\">Journals</span>,\n",
       " <span class=\"mw-editsection\"><span class=\"mw-editsection-bracket\">[</span><a href=\"/w/index.php?title=Machine_learning&amp;action=edit&amp;section=36\" title=\"Edit section: Journals\">edit</a><span class=\"mw-editsection-bracket\">]</span></span>,\n",
       " <span class=\"mw-headline\" id=\"Conferences\">Conferences</span>,\n",
       " <span class=\"mw-editsection\"><span class=\"mw-editsection-bracket\">[</span><a href=\"/w/index.php?title=Machine_learning&amp;action=edit&amp;section=37\" title=\"Edit section: Conferences\">edit</a><span class=\"mw-editsection-bracket\">]</span></span>,\n",
       " <span class=\"mw-headline\" id=\"See_also\">See also</span>,\n",
       " <span class=\"mw-editsection\"><span class=\"mw-editsection-bracket\">[</span><a href=\"/w/index.php?title=Machine_learning&amp;action=edit&amp;section=38\" title=\"Edit section: See also\">edit</a><span class=\"mw-editsection-bracket\">]</span></span>,\n",
       " <span class=\"mw-headline\" id=\"References\">References</span>,\n",
       " <span class=\"mw-editsection\"><span class=\"mw-editsection-bracket\">[</span><a href=\"/w/index.php?title=Machine_learning&amp;action=edit&amp;section=39\" title=\"Edit section: References\">edit</a><span class=\"mw-editsection-bracket\">]</span></span>,\n",
       " <span class=\"mw-headline\" id=\"Further_reading\">Further reading</span>,\n",
       " <span class=\"mw-editsection\"><span class=\"mw-editsection-bracket\">[</span><a href=\"/w/index.php?title=Machine_learning&amp;action=edit&amp;section=40\" title=\"Edit section: Further reading\">edit</a><span class=\"mw-editsection-bracket\">]</span></span>,\n",
       " <span class=\"mw-headline\" id=\"External_links\">External links</span>,\n",
       " <span class=\"mw-editsection\"><span class=\"mw-editsection-bracket\">[</span><a href=\"/w/index.php?title=Machine_learning&amp;action=edit&amp;section=41\" title=\"Edit section: External links\">edit</a><span class=\"mw-editsection-bracket\">]</span></span>]"
      ]
     },
     "execution_count": 33,
     "metadata": {},
     "output_type": "execute_result"
    }
   ],
   "source": [
    "h3"
   ]
  },
  {
   "cell_type": "code",
   "execution_count": null,
   "metadata": {},
   "outputs": [],
   "source": []
  }
 ],
 "metadata": {
  "kernelspec": {
   "display_name": "Python 3",
   "language": "python",
   "name": "python3"
  },
  "language_info": {
   "codemirror_mode": {
    "name": "ipython",
    "version": 3
   },
   "file_extension": ".py",
   "mimetype": "text/x-python",
   "name": "python",
   "nbconvert_exporter": "python",
   "pygments_lexer": "ipython3",
   "version": "3.7.3"
  }
 },
 "nbformat": 4,
 "nbformat_minor": 2
}
